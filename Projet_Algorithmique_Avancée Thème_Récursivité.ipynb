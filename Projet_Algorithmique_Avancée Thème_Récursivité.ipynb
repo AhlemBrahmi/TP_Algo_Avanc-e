{
 "cells": [
  {
   "cell_type": "code",
   "execution_count": 1,
   "metadata": {},
   "outputs": [],
   "source": [
    "from tkinter import *"
   ]
  },
  {
   "cell_type": "code",
   "execution_count": 2,
   "metadata": {},
   "outputs": [],
   "source": [
    "echiquier=[] #tableau NxN\n",
    "pos_reine=[] #Les positions des N reines\n",
    "sol=[]"
   ]
  },
  {
   "cell_type": "code",
   "execution_count": 3,
   "metadata": {},
   "outputs": [],
   "source": [
    "#Procedure d'initialisation\n",
    "\n",
    "def init_echiquier(n):\n",
    " for i in range(0,n):\n",
    "    pos_reine.append(0)\n",
    "    li=[]\n",
    " for k in range(0,n):\n",
    "    li.append(0)\n",
    " echiquier.append(li)"
   ]
  },
  {
   "cell_type": "code",
   "execution_count": 4,
   "metadata": {},
   "outputs": [
    {
     "name": "stdout",
     "output_type": "stream",
     "text": [
      "\n"
     ]
    }
   ],
   "source": [
    "#Procedure d'affichage de toutes les solutions possibles\n",
    "\n",
    "def affiche():              \n",
    " for ligne in echiquier:\n",
    "    for case in ligne:\n",
    "\n",
    "        \n",
    "     print(case,\"\",end=\"\")\n",
    " print(\"\")\n",
    "print(\"\")"
   ]
  },
  {
   "cell_type": "code",
   "execution_count": 5,
   "metadata": {},
   "outputs": [],
   "source": [
    "#Procedures de placer les reines sur l'echiquier\n",
    "\n",
    "def poser(n):\n",
    " for i in range(0,n):\n",
    "    for k in range(0,n):\n",
    "        echiquier[i][k]=0\n",
    " for i in range(0,n):\n",
    " \n",
    "    echiquier[pos_reine[i]][i]=1\n",
    "    affiche()"
   ]
  },
  {
   "cell_type": "code",
   "execution_count": 6,
   "metadata": {},
   "outputs": [],
   "source": [
    "#Fonction de teste si la case est libre \n",
    "\n",
    "def valide(li ,co):\n",
    " for i in range(0,co):\n",
    "    if pos_reine[i]==li or abs(pos_reine[i]-li)==abs(i-co):\n",
    "     return 0\n",
    " return 1"
   ]
  },
  {
   "cell_type": "code",
   "execution_count": 7,
   "metadata": {},
   "outputs": [],
   "source": [
    "#Fonction recursive qui fait la recherche des solutions \n",
    "\n",
    "def cherche_solution(r,n):\n",
    "     global k,x,t,sol \n",
    "     if(r==n): \n",
    "         sol=sol+pos_reine\n",
    "         print(pos_reine)\n",
    "         x=int(k.get())+1\n",
    "         k.set(x)\n",
    "     else :\n",
    "       for i in range(0,n):  \n",
    "             if(valide(i,r)): \n",
    "                 pos_reine[r]=i \n",
    "                 cherche_solution(r+1,n) "
   ]
  },
  {
   "cell_type": "code",
   "execution_count": 8,
   "metadata": {},
   "outputs": [],
   "source": [
    "def calculer(n):\n",
    " global k,clic,pos_reine,sol\n",
    " sol=[]\n",
    " clic.set(0)\n",
    " pos_reine=[]\n",
    " k.set(0)\n",
    " init_echiquier(n)\n",
    " cherche_solution(0,n)"
   ]
  },
  {
   "cell_type": "code",
   "execution_count": 9,
   "metadata": {},
   "outputs": [],
   "source": [
    "def voir (n):\n",
    "    global clic,k\n",
    "    clic=int(clic.get())-1\n",
    "    d=600//n\n",
    "    for i in range(n):\n",
    "        r=list(range(n))\n",
    "        for j in range(n):\n",
    "            r[i]=list(range(n))\n",
    "            lo=i*d\n",
    "            ha=j*d\n",
    "            r[i][j]=c.create_rectangle(lo,ha,lo+d,ha+d,outline='black',fill='white')\n",
    "            for i in range (n*clic,n*clic+n):\n",
    "                c.create_oval(sol[i]*d+1,(i-n*clic)*d+1,sol[i]*d+d-1,(i-n*clic)*d++-1,fill='black')\n",
    "                if clic+1<int(k.get()):\n",
    "                    clic=clic+1\n",
    "                    clic.set(clic+1)"
   ]
  },
  {
   "cell_type": "code",
   "execution_count": null,
   "metadata": {},
   "outputs": [],
   "source": [
    "x=0\n",
    "sol=[]\n",
    "f=Tk()   #Recherche solution(0)\n",
    "clic=StringVar()\n",
    "clic.set(1)\n",
    "k=StringVar()\n",
    "k.set(0)\n",
    "c = Canvas(f,bg='white',height=600,width=600)\n",
    "c.pack(side=LEFT)\n",
    "spin=Spinbox(f, values=(4,5,6,7,8,9,10,11), width=4)\n",
    "spin.config( font=\"sans 12\", justify=\"center\")\n",
    "spin.pack()\n",
    "b=Button(f,text=\"calculer\",command=lambda:calculer(int(spin.get())))\n",
    "b.pack()\n",
    "ll=Label(f,text=\"nombre de solutions\")\n",
    "ll.pack()\n",
    "l=Label(f,textvariable=k)\n",
    "l.pack()\n",
    "Label(f).pack()\n",
    "bb=Button(f,text=\"voir des solutions\",command=lambda:voir(int(spin.get())))\n",
    "bb.pack()\n",
    "lll=Label(f,textvariable=clic)\n",
    "lll.pack()\n",
    "f.mainloop()\n",
    "print(k.get())\n",
    "print(sol)"
   ]
  }
 ],
 "metadata": {
  "kernelspec": {
   "display_name": "Python 3",
   "language": "python",
   "name": "python3"
  },
  "language_info": {
   "codemirror_mode": {
    "name": "ipython",
    "version": 3
   },
   "file_extension": ".py",
   "mimetype": "text/x-python",
   "name": "python",
   "nbconvert_exporter": "python",
   "pygments_lexer": "ipython3",
   "version": "3.8.3"
  }
 },
 "nbformat": 4,
 "nbformat_minor": 4
}
