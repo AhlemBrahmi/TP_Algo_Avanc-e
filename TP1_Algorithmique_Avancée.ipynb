{
 "cells": [
  {
   "cell_type": "markdown",
   "metadata": {},
   "source": [
    "# <font color='red'> Algorithmique Avancée</font>"
   ]
  },
  {
   "cell_type": "markdown",
   "metadata": {},
   "source": [
    "### <font color='green'> Realisé par :Ahlem Brahmi 2DNI2</font>"
   ]
  },
  {
   "cell_type": "markdown",
   "metadata": {},
   "source": [
    " > ## Tri par selection"
   ]
  },
  {
   "cell_type": "code",
   "execution_count": 11,
   "metadata": {},
   "outputs": [],
   "source": [
    "def tri_selection(tab):\n",
    "   for i in range(len(tab)):\n",
    "       min = i\n",
    "       for j in range(i+1, len(tab)):\n",
    "           if tab[min] > tab[j]:\n",
    "               min = j\n",
    "                \n",
    "       tmp = tab[i]\n",
    "       tab[i] = tab[min]\n",
    "       tab[min] = tmp\n",
    "   return tab"
   ]
  },
  {
   "cell_type": "code",
   "execution_count": 12,
   "metadata": {},
   "outputs": [
    {
     "name": "stdout",
     "output_type": "stream",
     "text": [
      "Le tableau trié est:\n",
      "1\n",
      "10\n",
      "23\n",
      "36\n",
      "47\n",
      "51\n",
      "66\n",
      "80\n",
      "100\n",
      "200\n"
     ]
    }
   ],
   "source": [
    "tab = [100, 51, 1, 23, 10, 47, 36, 80, 66, 200]    # Pour tester le code\n",
    " \n",
    "tri_selection(tab)\n",
    " \n",
    "print (\"Le tableau trié est:\")\n",
    "for i in range(len(tab)):\n",
    "    print (\"%d\" %tab[i])"
   ]
  },
  {
   "cell_type": "markdown",
   "metadata": {},
   "source": [
    "> ## Tri par insertion"
   ]
  },
  {
   "cell_type": "code",
   "execution_count": 13,
   "metadata": {},
   "outputs": [],
   "source": [
    "def tri_insertion(tab): \n",
    "    for i in range(1, len(tab)): \n",
    "        k = tab[i] \n",
    "        j = i-1\n",
    "        while j >= 0 and k < tab[j] : \n",
    "                tab[j + 1] = tab[j] \n",
    "                j -= 1\n",
    "        tab[j + 1] = k\n"
   ]
  },
  {
   "cell_type": "code",
   "execution_count": 14,
   "metadata": {},
   "outputs": [
    {
     "name": "stdout",
     "output_type": "stream",
     "text": [
      "Le tableau trié est:\n",
      " 1\n",
      " 10\n",
      " 23\n",
      " 36\n",
      " 47\n",
      " 51\n",
      " 66\n",
      " 80\n",
      " 100\n",
      " 200\n"
     ]
    }
   ],
   "source": [
    "tab = [100, 51, 1, 23, 10, 47, 36, 80, 66, 200]   # Pour tester le code \n",
    "tri_insertion(tab) \n",
    "print (\"Le tableau trié est:\")\n",
    "for i in range(len(tab)): \n",
    "    print (\"% d\" % tab[i])"
   ]
  },
  {
   "cell_type": "markdown",
   "metadata": {},
   "source": [
    "> ## Tri à bulle"
   ]
  },
  {
   "cell_type": "code",
   "execution_count": 15,
   "metadata": {},
   "outputs": [],
   "source": [
    "def tri_bulle(tab):\n",
    "    n = len(tab)\n",
    "    for i in range(n):\n",
    "        for j in range(0, n-i-1):\n",
    "            if tab[j] > tab[j+1] :\n",
    "                tab[j], tab[j+1] = tab[j+1], tab[j]"
   ]
  },
  {
   "cell_type": "code",
   "execution_count": 16,
   "metadata": {},
   "outputs": [
    {
     "name": "stdout",
     "output_type": "stream",
     "text": [
      "Le tableau trié est:\n",
      "1\n",
      "10\n",
      "23\n",
      "36\n",
      "47\n",
      "51\n",
      "66\n",
      "80\n",
      "100\n",
      "200\n"
     ]
    }
   ],
   "source": [
    "tab = [100, 51, 1, 23, 10, 47, 36, 80, 66, 200]   # Pour tester le code \n",
    " \n",
    "tri_bulle(tab)\n",
    " \n",
    "print (\"Le tableau trié est:\")\n",
    "for i in range(len(tab)):\n",
    "    print (\"%d\" %tab[i])"
   ]
  },
  {
   "cell_type": "markdown",
   "metadata": {},
   "source": [
    "> ## Tri par fusion"
   ]
  },
  {
   "cell_type": "code",
   "execution_count": 17,
   "metadata": {},
   "outputs": [],
   "source": [
    "def tri_fusion(myList):\n",
    "    if len(myList) > 1:\n",
    "        mid = len(myList) // 2\n",
    "        left = myList[:mid]\n",
    "        right = myList[mid:]\n",
    "\n",
    "        tri_fusion(left)\n",
    "        tri_fusion(right)\n",
    "\n",
    "        i = 0\n",
    "        j = 0\n",
    "        \n",
    "        k = 0\n",
    "        \n",
    "        while i < len(left) and j < len(right):\n",
    "            if left[i] < right[j]:\n",
    "              myList[k] = left[i]\n",
    "              i += 1\n",
    "            else:\n",
    "                myList[k] = right[j]\n",
    "                j += 1\n",
    "            k += 1\n",
    "\n",
    "        while i < len(left):\n",
    "            myList[k] = left[i]\n",
    "            i += 1\n",
    "            k += 1\n",
    "\n",
    "        while j < len(right):\n",
    "            myList[k]=right[j]\n",
    "            j += 1\n",
    "            k += 1"
   ]
  },
  {
   "cell_type": "code",
   "execution_count": 18,
   "metadata": {},
   "outputs": [
    {
     "name": "stdout",
     "output_type": "stream",
     "text": [
      "Le tableau trié est:\n",
      "1\n",
      "10\n",
      "23\n",
      "36\n",
      "47\n",
      "51\n",
      "66\n",
      "80\n",
      "100\n",
      "200\n"
     ]
    }
   ],
   "source": [
    "tab = [100, 51, 1, 23, 10, 47, 36, 80, 66, 200]   # Pour tester le code \n",
    " \n",
    "tri_fusion(tab)\n",
    " \n",
    "print (\"Le tableau trié est:\")\n",
    "for i in range(len(tab)):\n",
    "    print (\"%d\" %tab[i])"
   ]
  },
  {
   "cell_type": "markdown",
   "metadata": {},
   "source": [
    "> ## Tri rapide"
   ]
  },
  {
   "cell_type": "code",
   "execution_count": 19,
   "metadata": {},
   "outputs": [],
   "source": [
    "def tri_rapide(arr):\n",
    "\n",
    "    elements = len(arr)\n",
    "    \n",
    "    if elements < 2:\n",
    "        return arr \n",
    "    current_position = 0 \n",
    "    for i in range(1, elements): \n",
    "         if arr[i] <= arr[0]:\n",
    "              current_position += 1\n",
    "              temp = arr[i]\n",
    "              arr[i] = arr[current_position]\n",
    "              arr[current_position] = temp\n",
    "\n",
    "    temp = arr[0]\n",
    "    arr[0] = arr[current_position] \n",
    "    arr[current_position] = temp \n",
    "    \n",
    "    left = tri_rapide(arr[0:current_position]) \n",
    "    right = tri_rapide(arr[current_position+1:elements]) \n",
    "\n",
    "    arr = left + [arr[current_position]] + right \n",
    "    \n",
    "    return arr"
   ]
  },
  {
   "cell_type": "code",
   "execution_count": 20,
   "metadata": {},
   "outputs": [
    {
     "name": "stdout",
     "output_type": "stream",
     "text": [
      "Original Array:  [100, 51, 1, 23, 10, 47, 36, 80, 66, 200]\n",
      "Sorted Array:  [1, 10, 23, 36, 47, 51, 66, 80, 100, 200]\n"
     ]
    }
   ],
   "source": [
    "array_to_be_sorted = [100, 51, 1, 23, 10, 47, 36, 80, 66, 200]\n",
    "print(\"Original Array: \",array_to_be_sorted)\n",
    "print(\"Sorted Array: \",tri_rapide(array_to_be_sorted))"
   ]
  },
  {
   "cell_type": "markdown",
   "metadata": {},
   "source": [
    "### <font color='red'>Conclusion:</font>"
   ]
  },
  {
   "cell_type": "markdown",
   "metadata": {},
   "source": [
    "Le tri est un problème fondamental de l’algorithmique. En général,\n",
    "son but est de préparer des données pour permettre d’y rechercher\n",
    "rapidement une information."
   ]
  },
  {
   "cell_type": "code",
   "execution_count": null,
   "metadata": {},
   "outputs": [],
   "source": []
  }
 ],
 "metadata": {
  "kernelspec": {
   "display_name": "Python 3",
   "language": "python",
   "name": "python3"
  },
  "language_info": {
   "codemirror_mode": {
    "name": "ipython",
    "version": 3
   },
   "file_extension": ".py",
   "mimetype": "text/x-python",
   "name": "python",
   "nbconvert_exporter": "python",
   "pygments_lexer": "ipython3",
   "version": "3.8.3"
  }
 },
 "nbformat": 4,
 "nbformat_minor": 4
}
